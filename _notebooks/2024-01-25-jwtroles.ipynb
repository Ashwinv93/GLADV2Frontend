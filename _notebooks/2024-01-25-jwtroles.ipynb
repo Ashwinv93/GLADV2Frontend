{
 "cells": [
  {
   "cell_type": "markdown",
   "metadata": {},
   "source": [
    "---\n",
    "toc: false\n",
    "comments: true\n",
    "layout: notebook\n",
    "title:  Flask JWT Roles for User / Admin user\n",
    "description: JWT User/Admin Roles Lesson\n",
    "courses: { csp: {week: 2} }\n",
    "type: tangibles\n",
    "---"
   ]
  },
  {
   "cell_type": "markdown",
   "metadata": {},
   "source": [
    "# Flask JWT Roles for User/Admin Users"
   ]
  },
  {
   "cell_type": "markdown",
   "metadata": {},
   "source": [
    "Flask-JWT Overview:\n",
    "Flask-JWT is an extension that enables the use of JSON Web Tokens for securing Flask applications. JSON Web Tokens are compact, URL-safe means of representing claims between two parties. They are commonly used for user authentication and authorization.\n",
    "\n",
    "JWT Roles in Flask:\n",
    "JWT roles in Flask help in distinguishing different levels of access or privileges for users. These roles are often used to categorize users into different tiers such as users and admins."
   ]
  }
 ],
 "metadata": {
  "language_info": {
   "name": "python"
  },
  "orig_nbformat": 4
 },
 "nbformat": 4,
 "nbformat_minor": 2
}
