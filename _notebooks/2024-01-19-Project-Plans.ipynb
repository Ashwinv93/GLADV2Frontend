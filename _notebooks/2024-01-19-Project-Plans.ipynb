{
 "cells": [
  {
   "cell_type": "markdown",
   "metadata": {},
   "source": [
    "---\n",
    "toc: false\n",
    "comments: true\n",
    "layout: notebook\n",
    "title: Project Plans \n",
    "description: Plans and initial designs for CPT project\n",
    "courses: { csp: {week: 1} }\n",
    "type: plans\n",
    "---"
   ]
  },
  {
   "cell_type": "markdown",
   "metadata": {},
   "source": [
    "# Clash Royal Website"
   ]
  },
  {
   "cell_type": "markdown",
   "metadata": {},
   "source": [
    "### Ashwin - Deck Builder\n",
    "\n",
    "The game clash royal is a mobile where two people play against eachother with decks of 8 cards. The cards each have different satistics and abilitys. I aim to build a user friendly interface that lets you drag cards from a collection of all the 118 cards into 8 slots for your deck. Once the deck is build it will display the average elixer cost of the cost, and some other statistics if possible.\n",
    "\n",
    "This is the logo I will be using for the elixer\n",
    "<img src=\"https://static.wikia.nocookie.net/clashroyale/images/4/43/Elixir.png/revision/latest/scale-to-width-down/100?cb=20160530182631\" alt=\"Elixir | Clash Royale Wiki | Fandom\"/>\n",
    "\n",
    "This is an example of what my UI will look like\n",
    "<img src=\"https://is1-ssl.mzstatic.com/image/thumb/Purple111/v4/46/0b/5f/460b5f5a-bc34-be6c-c0b7-2075915049bb/pr_source.png/643x0w.jpg\" alt=\"Deck Builder For Clash Royale - Building Guide on the App Store\"/>"
   ]
  }
 ],
 "metadata": {
  "language_info": {
   "name": "python"
  },
  "orig_nbformat": 4
 },
 "nbformat": 4,
 "nbformat_minor": 2
}
