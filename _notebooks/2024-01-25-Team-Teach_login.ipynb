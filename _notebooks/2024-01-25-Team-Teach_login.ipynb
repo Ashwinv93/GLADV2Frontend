{
 "cells": [
  {
   "cell_type": "markdown",
   "metadata": {},
   "source": [
    "---\n",
    "toc: false\n",
    "comments: true\n",
    "layout: notebook\n",
    "title: Project Plans \n",
    "description: Plans and initial designs for CPT project\n",
    "courses: { timebox: {week: 1} }\n",
    "type: plans\n",
    "---"
   ]
  },
  {
   "cell_type": "code",
   "execution_count": null,
   "metadata": {
    "vscode": {
     "languageId": "html"
    }
   },
   "outputs": [],
   "source": [
    "<!DOCTYPE html>\n",
    "<html lang=\"en\">\n",
    "<head>\n",
    "    <meta charset=\"UTF-8\">\n",
    "    <meta http-equiv=\"X-UA-Compatible\" content=\"IE=edge\">\n",
    "    <meta name=\"viewport\" content=\"width=device-width, initial-scale=1.0\">\n",
    "    <title>Login and Registration</title>\n",
    "    <style>\n",
    "        /* Add your CSS styling here */\n",
    "        body { font-family: Arial, sans-serif; }\n",
    "        .form-container { margin: auto; width: 300px; padding: 20px; }\n",
    "    </style>\n",
    "</head>\n",
    "<body>\n",
    "    <div class=\"form-container\">\n",
    "        <h2>Register</h2>\n",
    "        <form id=\"registerForm\">\n",
    "            <input type=\"text\" id=\"registerUsername\" placeholder=\"Username\" required><br>\n",
    "            <input type=\"password\" id=\"registerPassword\" placeholder=\"Password\" required><br>\n",
    "            <button type=\"submit\">Register</button>\n",
    "        </form>\n",
    "    </div>\n",
    "\n",
    "    <div class=\"form-container\">\n",
    "        <h2>Login</h2>\n",
    "        <form id=\"loginForm\">\n",
    "            <input type=\"text\" id=\"loginUsername\" placeholder=\"Username\" required><br>\n",
    "            <input type=\"password\" id=\"loginPassword\" placeholder=\"Password\" required><br>\n",
    "            <button type=\"submit\">Login</button>\n",
    "        </form>\n",
    "    </div>\n",
    "\n",
    "    <script>\n",
    "        document.getElementById('registerForm').addEventListener('submit', function(e) {\n",
    "            e.preventDefault();\n",
    "            const username = document.getElementById('registerUsername').value;\n",
    "            const password = document.getElementById('registerPassword').value;\n",
    "            fetch('/register', {\n",
    "                method: 'POST',\n",
    "                headers: { 'Content-Type': 'application/json' },\n",
    "                body: JSON.stringify({ username, password })\n",
    "            })\n",
    "            .then(response => response.json())\n",
    "            .then(data => alert(data.message));\n",
    "        });\n",
    "\n",
    "        document.getElementById('loginForm').addEventListener('submit', function(e) {\n",
    "            e.preventDefault();\n",
    "            const username = document.getElementById('loginUsername').value;\n",
    "            const password = document.getElementById('loginPassword').value;\n",
    "            fetch('/login', {\n",
    "                method: 'POST',\n",
    "                headers: { 'Content-Type': 'application/json' },\n",
    "                body: JSON.stringify({ username, password })\n",
    "            })\n",
    "            .then(response => response.json())\n",
    "            .then(data => alert(data.message));\n",
    "        });\n",
    "    </script>\n",
    "</body>\n",
    "</html>"
   ]
  }
 ],
 "metadata": {
  "language_info": {
   "name": "python"
  }
 },
 "nbformat": 4,
 "nbformat_minor": 2
}
