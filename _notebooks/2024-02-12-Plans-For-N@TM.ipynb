{
 "cells": [
  {
   "cell_type": "markdown",
   "metadata": {},
   "source": [
    "---\n",
    "toc: false\n",
    "comments: true\n",
    "layout: notebook\n",
    "title: N@TM Plans \n",
    "description: Plans for progress\n",
    "courses: { timebox: {week: 4} }\n",
    "type: plans\n",
    "---"
   ]
  },
  {
   "cell_type": "markdown",
   "metadata": {},
   "source": [
    "## Ashwin Plans\n",
    "- I would like to add a reset button that will clear the contairer for the cards, and bring back the chest, allowing the user to open it again.\n",
    "- I also would like to add two different chests. One would be the golden chest, which only allows epics and lower to be pulled. Only 4 cards. The other chest would be a lightnight chest which give 10 cards all epic and above. Depending on what the user clicks on different functions will run to populate the container.\n",
    "- If I have time I will add a collection system so people can save their favorite cards."
   ]
  },
  {
   "cell_type": "markdown",
   "metadata": {},
   "source": [
    "## Licoln Plans\n",
    "- I want to be able to improve my quiz by making a cards.py in the model for the backend, a card.py in the Api in the backend. I want to do this because after the deck recommendation is given, it will give statistics on all the cards by getting it from the backend."
   ]
  },
  {
   "cell_type": "markdown",
   "metadata": {},
   "source": [
    "## Dantes Plans\n",
    "- For my code, I need to work on integrating the backend for storing the decks you create allowing the user to return to the decks they created. Also, I could add a way to favorite the specific decks and delete others. Also, I could connect lincolns feature to mine by automatically making the deck that the survey gives into the deck collection."
   ]
  },
  {
   "cell_type": "markdown",
   "metadata": {},
   "source": [
    "## Gurshawns plans\n",
    "- i want to fix my nba database by showing all player data in a table, and when you search a table will be generated based on the stats currently shown. the user will have the option to add players to a team and reset the team"
   ]
  }
 ],
 "metadata": {
  "language_info": {
   "name": "python"
  }
 },
 "nbformat": 4,
 "nbformat_minor": 2
}
