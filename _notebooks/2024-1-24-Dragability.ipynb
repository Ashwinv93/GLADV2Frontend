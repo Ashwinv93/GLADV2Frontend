{
 "cells": [
  {
   "cell_type": "markdown",
   "metadata": {},
   "source": [
    "---\n",
    "toc: false\n",
    "comments: true\n",
    "layout: notebook\n",
    "title: Dragability\n",
    "description: Stuff by vance\n",
    "courses: { timebox: {week: 2} }\n",
    "type: hacks\n",
    "---"
   ]
  },
  {
   "cell_type": "markdown",
   "metadata": {},
   "source": [
    "<div id=\"draggable-container\" style=\"position: relative; width: 300px; height: 300px;\">\n",
    "  <img id=\"draggable-image\" src=\"your_image_url\" style=\"width: 100%; height: 100%; cursor: grab;\">\n",
    "</div>"
   ]
  }
 ],
 "metadata": {
  "language_info": {
   "name": "python"
  }
 },
 "nbformat": 4,
 "nbformat_minor": 2
}
